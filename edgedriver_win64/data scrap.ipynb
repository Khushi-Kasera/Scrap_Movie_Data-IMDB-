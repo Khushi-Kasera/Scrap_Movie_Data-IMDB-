{
 "cells": [
  {
   "cell_type": "code",
   "execution_count": 143,
   "id": "3d22099d-82c4-4e22-826f-69975dda8b47",
   "metadata": {},
   "outputs": [],
   "source": [
    "import requests\n",
    "from bs4 import BeautifulSoup\n",
    "from selenium import webdriver"
   ]
  },
  {
   "cell_type": "markdown",
   "id": "bb9c31d1-abd2-475e-a181-45e98f1cda5f",
   "metadata": {},
   "source": [
    "**ACTION**"
   ]
  },
  {
   "cell_type": "code",
   "execution_count": 153,
   "id": "4643db1e-23e5-4f65-a476-27aa942150f1",
   "metadata": {},
   "outputs": [],
   "source": [
    "driver = webdriver.Edge()"
   ]
  },
  {
   "cell_type": "code",
   "execution_count": 154,
   "id": "f5bdf5ff-fffe-41cf-b083-ddf9d9487340",
   "metadata": {},
   "outputs": [],
   "source": [
    "driver.get(f\"https://www.imdb.com/search/title/?genres=action\")"
   ]
  },
  {
   "cell_type": "code",
   "execution_count": 175,
   "id": "cce4e413-cb9e-4da7-9de9-7e027fc2ffb1",
   "metadata": {},
   "outputs": [],
   "source": [
    "soup = BeautifulSoup(driver.page_source,\"lxml\")"
   ]
  },
  {
   "cell_type": "code",
   "execution_count": 176,
   "id": "9b23c3c1-fa42-4145-b600-f214ba073edc",
   "metadata": {
    "scrolled": true
   },
   "outputs": [],
   "source": [
    "mo =soup.find(\"ul\",class_=\"ipc-metadata-list ipc-metadata-list--dividers-between sc-315eec58-0 hvFmRn detailed-list-view ipc-metadata-list--base\")"
   ]
  },
  {
   "cell_type": "code",
   "execution_count": 177,
   "id": "ce5a4200-4b87-4688-ad54-43734ff7f106",
   "metadata": {},
   "outputs": [],
   "source": [
    "data = []\n",
    "for x in mo.find_all(\"div\",class_= \"ipc-html-content-inner-div\"):\n",
    "    data.append(x.text)"
   ]
  },
  {
   "cell_type": "code",
   "execution_count": 178,
   "id": "94c7477f-ebc0-4aeb-909e-b16b46f031fa",
   "metadata": {
    "scrolled": true
   },
   "outputs": [
    {
     "data": {
      "text/plain": [
       "999"
      ]
     },
     "execution_count": 178,
     "metadata": {},
     "output_type": "execute_result"
    }
   ],
   "source": [
    "len(data)"
   ]
  },
  {
   "cell_type": "code",
   "execution_count": 179,
   "id": "c0d8adf9-21a0-4722-848f-bb8285810932",
   "metadata": {},
   "outputs": [],
   "source": [
    "import pandas as pd\n",
    "df = pd.DataFrame({\"action\": data})"
   ]
  },
  {
   "cell_type": "code",
   "execution_count": 180,
   "id": "9e631db3-27b6-44ff-b0f0-aaaca0fe59bc",
   "metadata": {},
   "outputs": [
    {
     "data": {
      "text/html": [
       "<div>\n",
       "<style scoped>\n",
       "    .dataframe tbody tr th:only-of-type {\n",
       "        vertical-align: middle;\n",
       "    }\n",
       "\n",
       "    .dataframe tbody tr th {\n",
       "        vertical-align: top;\n",
       "    }\n",
       "\n",
       "    .dataframe thead th {\n",
       "        text-align: right;\n",
       "    }\n",
       "</style>\n",
       "<table border=\"1\" class=\"dataframe\">\n",
       "  <thead>\n",
       "    <tr style=\"text-align: right;\">\n",
       "      <th></th>\n",
       "      <th>action</th>\n",
       "    </tr>\n",
       "  </thead>\n",
       "  <tbody>\n",
       "    <tr>\n",
       "      <th>0</th>\n",
       "      <td>Itinerant former military policeman Jack Reach...</td>\n",
       "    </tr>\n",
       "    <tr>\n",
       "      <th>1</th>\n",
       "      <td>Follows a master thief and his Interpol Agent ...</td>\n",
       "    </tr>\n",
       "    <tr>\n",
       "      <th>2</th>\n",
       "      <td>Maya Lopez must face her past, reconnect with ...</td>\n",
       "    </tr>\n",
       "    <tr>\n",
       "      <th>3</th>\n",
       "      <td>One man's brutal campaign for vengeance takes ...</td>\n",
       "    </tr>\n",
       "    <tr>\n",
       "      <th>4</th>\n",
       "      <td>Demigod Percy Jackson leads a quest across Ame...</td>\n",
       "    </tr>\n",
       "    <tr>\n",
       "      <th>...</th>\n",
       "      <td>...</td>\n",
       "    </tr>\n",
       "    <tr>\n",
       "      <th>994</th>\n",
       "      <td>Follows Nikki Batista after she joins the Phil...</td>\n",
       "    </tr>\n",
       "    <tr>\n",
       "      <th>995</th>\n",
       "      <td>Bruce Banner, a genetics researcher with a tra...</td>\n",
       "    </tr>\n",
       "    <tr>\n",
       "      <th>996</th>\n",
       "      <td>The world's deadliest assassin and New York's ...</td>\n",
       "    </tr>\n",
       "    <tr>\n",
       "      <th>997</th>\n",
       "      <td>A brilliant scientist's discovery renders him ...</td>\n",
       "    </tr>\n",
       "    <tr>\n",
       "      <th>998</th>\n",
       "      <td>Cash is trying to live an honest and quiet lif...</td>\n",
       "    </tr>\n",
       "  </tbody>\n",
       "</table>\n",
       "<p>999 rows × 1 columns</p>\n",
       "</div>"
      ],
      "text/plain": [
       "                                                action\n",
       "0    Itinerant former military policeman Jack Reach...\n",
       "1    Follows a master thief and his Interpol Agent ...\n",
       "2    Maya Lopez must face her past, reconnect with ...\n",
       "3    One man's brutal campaign for vengeance takes ...\n",
       "4    Demigod Percy Jackson leads a quest across Ame...\n",
       "..                                                 ...\n",
       "994  Follows Nikki Batista after she joins the Phil...\n",
       "995  Bruce Banner, a genetics researcher with a tra...\n",
       "996  The world's deadliest assassin and New York's ...\n",
       "997  A brilliant scientist's discovery renders him ...\n",
       "998  Cash is trying to live an honest and quiet lif...\n",
       "\n",
       "[999 rows x 1 columns]"
      ]
     },
     "execution_count": 180,
     "metadata": {},
     "output_type": "execute_result"
    }
   ],
   "source": [
    "df"
   ]
  },
  {
   "cell_type": "code",
   "execution_count": 181,
   "id": "865200b3-b6cd-470f-804c-ba941c958738",
   "metadata": {},
   "outputs": [],
   "source": [
    "df.to_csv(\"action.csv\")"
   ]
  },
  {
   "cell_type": "markdown",
   "id": "54f93d42-b411-4192-b9d6-366e8ed9ddf5",
   "metadata": {},
   "source": [
    "**ROMANCE**"
   ]
  },
  {
   "cell_type": "code",
   "execution_count": 182,
   "id": "e89b3dbf-b0cd-45ba-b188-088047b6980d",
   "metadata": {},
   "outputs": [],
   "source": [
    "driver = webdriver.Edge()"
   ]
  },
  {
   "cell_type": "code",
   "execution_count": 183,
   "id": "fd609fe6-a3df-49a1-9778-ea0a3fbf61d2",
   "metadata": {},
   "outputs": [],
   "source": [
    "driver.get(f\"https://www.imdb.com/search/title/?genres=romance\")"
   ]
  },
  {
   "cell_type": "code",
   "execution_count": 189,
   "id": "f55abac7-d7df-45dc-9197-47a9680ee53f",
   "metadata": {},
   "outputs": [],
   "source": [
    "soup = BeautifulSoup(driver.page_source,\"lxml\")"
   ]
  },
  {
   "cell_type": "code",
   "execution_count": 190,
   "id": "63753270-eff7-4560-b10a-48aebf91806b",
   "metadata": {},
   "outputs": [],
   "source": [
    "mo =soup.find(\"ul\",class_=\"ipc-metadata-list ipc-metadata-list--dividers-between sc-315eec58-0 hvFmRn detailed-list-view ipc-metadata-list--base\")"
   ]
  },
  {
   "cell_type": "code",
   "execution_count": 191,
   "id": "13b9f9c2-d211-4043-879f-9a46ca540022",
   "metadata": {},
   "outputs": [],
   "source": [
    "data = []\n",
    "for x in mo.find_all(\"div\",class_= \"ipc-html-content-inner-div\"):\n",
    "    data.append(x.text)"
   ]
  },
  {
   "cell_type": "code",
   "execution_count": 192,
   "id": "5ab6255e-885c-4526-ad1e-83303212a3e8",
   "metadata": {},
   "outputs": [
    {
     "data": {
      "text/plain": [
       "1050"
      ]
     },
     "execution_count": 192,
     "metadata": {},
     "output_type": "execute_result"
    }
   ],
   "source": [
    "len(data)"
   ]
  },
  {
   "cell_type": "code",
   "execution_count": 193,
   "id": "935d5ea3-5ae5-4d6d-9faf-58441dd2c8af",
   "metadata": {
    "scrolled": true
   },
   "outputs": [
    {
     "data": {
      "text/html": [
       "<div>\n",
       "<style scoped>\n",
       "    .dataframe tbody tr th:only-of-type {\n",
       "        vertical-align: middle;\n",
       "    }\n",
       "\n",
       "    .dataframe tbody tr th {\n",
       "        vertical-align: top;\n",
       "    }\n",
       "\n",
       "    .dataframe thead th {\n",
       "        text-align: right;\n",
       "    }\n",
       "</style>\n",
       "<table border=\"1\" class=\"dataframe\">\n",
       "  <thead>\n",
       "    <tr style=\"text-align: right;\">\n",
       "      <th></th>\n",
       "      <th>romance</th>\n",
       "    </tr>\n",
       "  </thead>\n",
       "  <tbody>\n",
       "    <tr>\n",
       "      <th>0</th>\n",
       "      <td>The incredible tale about the fantastical evol...</td>\n",
       "    </tr>\n",
       "    <tr>\n",
       "      <th>1</th>\n",
       "      <td>When oil is discovered in 1920s Oklahoma under...</td>\n",
       "    </tr>\n",
       "    <tr>\n",
       "      <th>2</th>\n",
       "      <td>After an amazing first date, Bea and Ben's fie...</td>\n",
       "    </tr>\n",
       "    <tr>\n",
       "      <th>3</th>\n",
       "      <td>A drama centered on the personal and professio...</td>\n",
       "    </tr>\n",
       "    <tr>\n",
       "      <th>4</th>\n",
       "      <td>Emma has a wonderful husband and two kids in t...</td>\n",
       "    </tr>\n",
       "    <tr>\n",
       "      <th>...</th>\n",
       "      <td>...</td>\n",
       "    </tr>\n",
       "    <tr>\n",
       "      <th>1045</th>\n",
       "      <td>A panicked young woman, with her reluctant fri...</td>\n",
       "    </tr>\n",
       "    <tr>\n",
       "      <th>1046</th>\n",
       "      <td>A frigid young housewife decides to spend her ...</td>\n",
       "    </tr>\n",
       "    <tr>\n",
       "      <th>1047</th>\n",
       "      <td>A grown-up woman who kept her childish instinc...</td>\n",
       "    </tr>\n",
       "    <tr>\n",
       "      <th>1048</th>\n",
       "      <td>Centers on two toxic, self-destructive people ...</td>\n",
       "    </tr>\n",
       "    <tr>\n",
       "      <th>1049</th>\n",
       "      <td>The social and class divisions in early 20th c...</td>\n",
       "    </tr>\n",
       "  </tbody>\n",
       "</table>\n",
       "<p>1050 rows × 1 columns</p>\n",
       "</div>"
      ],
      "text/plain": [
       "                                                romance\n",
       "0     The incredible tale about the fantastical evol...\n",
       "1     When oil is discovered in 1920s Oklahoma under...\n",
       "2     After an amazing first date, Bea and Ben's fie...\n",
       "3     A drama centered on the personal and professio...\n",
       "4     Emma has a wonderful husband and two kids in t...\n",
       "...                                                 ...\n",
       "1045  A panicked young woman, with her reluctant fri...\n",
       "1046  A frigid young housewife decides to spend her ...\n",
       "1047  A grown-up woman who kept her childish instinc...\n",
       "1048  Centers on two toxic, self-destructive people ...\n",
       "1049  The social and class divisions in early 20th c...\n",
       "\n",
       "[1050 rows x 1 columns]"
      ]
     },
     "execution_count": 193,
     "metadata": {},
     "output_type": "execute_result"
    }
   ],
   "source": [
    "df = pd.DataFrame({\"romance\": data})\n",
    "df"
   ]
  },
  {
   "cell_type": "code",
   "execution_count": 194,
   "id": "c3cd8530-aeb1-4b4d-9e66-a56e4429408b",
   "metadata": {},
   "outputs": [],
   "source": [
    "df.to_csv(\"romance.csv\")"
   ]
  },
  {
   "cell_type": "markdown",
   "id": "e22d92fe-7c97-46e8-a0c1-5c46d368617d",
   "metadata": {},
   "source": [
    "**THRILLER**"
   ]
  },
  {
   "cell_type": "code",
   "execution_count": 195,
   "id": "bd518adc-e959-4d34-a74c-ba610844529a",
   "metadata": {},
   "outputs": [],
   "source": [
    "driver = webdriver.Edge()"
   ]
  },
  {
   "cell_type": "code",
   "execution_count": 196,
   "id": "549a758f-04dc-4d09-b93a-00f6b69727a2",
   "metadata": {},
   "outputs": [],
   "source": [
    "driver.get(f\"https://www.imdb.com/search/title/?genres=thriller\")"
   ]
  },
  {
   "cell_type": "code",
   "execution_count": 202,
   "id": "6deda3f5-5fe8-4c73-9d6a-3df0090bfc63",
   "metadata": {},
   "outputs": [],
   "source": [
    "soup = BeautifulSoup(driver.page_source,\"lxml\")"
   ]
  },
  {
   "cell_type": "code",
   "execution_count": 203,
   "id": "2a9d8446-dfe7-40ee-9262-e5128b0d7965",
   "metadata": {},
   "outputs": [],
   "source": [
    "mo =soup.find(\"ul\",class_=\"ipc-metadata-list ipc-metadata-list--dividers-between sc-315eec58-0 hvFmRn detailed-list-view ipc-metadata-list--base\")"
   ]
  },
  {
   "cell_type": "code",
   "execution_count": 204,
   "id": "57ead3ee-3ca7-4621-8ebb-b04fd4ce4165",
   "metadata": {},
   "outputs": [],
   "source": [
    "data = []\n",
    "for x in mo.find_all(\"div\",class_= \"ipc-html-content-inner-div\"):\n",
    "    data.append(x.text)"
   ]
  },
  {
   "cell_type": "code",
   "execution_count": 205,
   "id": "ec2c529c-b8d6-409e-9bce-12f8d78f9a81",
   "metadata": {},
   "outputs": [
    {
     "data": {
      "text/plain": [
       "999"
      ]
     },
     "execution_count": 205,
     "metadata": {},
     "output_type": "execute_result"
    }
   ],
   "source": [
    "len(data)"
   ]
  },
  {
   "cell_type": "code",
   "execution_count": 206,
   "id": "77e21085-d896-4868-9d25-443a209f30e6",
   "metadata": {
    "scrolled": true
   },
   "outputs": [
    {
     "data": {
      "text/html": [
       "<div>\n",
       "<style scoped>\n",
       "    .dataframe tbody tr th:only-of-type {\n",
       "        vertical-align: middle;\n",
       "    }\n",
       "\n",
       "    .dataframe tbody tr th {\n",
       "        vertical-align: top;\n",
       "    }\n",
       "\n",
       "    .dataframe thead th {\n",
       "        text-align: right;\n",
       "    }\n",
       "</style>\n",
       "<table border=\"1\" class=\"dataframe\">\n",
       "  <thead>\n",
       "    <tr style=\"text-align: right;\">\n",
       "      <th></th>\n",
       "      <th>thriller</th>\n",
       "    </tr>\n",
       "  </thead>\n",
       "  <tbody>\n",
       "    <tr>\n",
       "      <th>0</th>\n",
       "      <td>Anthology series in which police investigation...</td>\n",
       "    </tr>\n",
       "    <tr>\n",
       "      <th>1</th>\n",
       "      <td>A student at Oxford University finds himself d...</td>\n",
       "    </tr>\n",
       "    <tr>\n",
       "      <th>2</th>\n",
       "      <td>Itinerant former military policeman Jack Reach...</td>\n",
       "    </tr>\n",
       "    <tr>\n",
       "      <th>3</th>\n",
       "      <td>Various chronicles of deception, intrigue, and...</td>\n",
       "    </tr>\n",
       "    <tr>\n",
       "      <th>4</th>\n",
       "      <td>Widowed mum Maya is disturbed by an image of h...</td>\n",
       "    </tr>\n",
       "    <tr>\n",
       "      <th>...</th>\n",
       "      <td>...</td>\n",
       "    </tr>\n",
       "    <tr>\n",
       "      <th>994</th>\n",
       "      <td>One of the world's top bodyguards gets a new c...</td>\n",
       "    </tr>\n",
       "    <tr>\n",
       "      <th>995</th>\n",
       "      <td>An attorney intending on climbing the career l...</td>\n",
       "    </tr>\n",
       "    <tr>\n",
       "      <th>996</th>\n",
       "      <td>An ambitious young executive is sent to retrie...</td>\n",
       "    </tr>\n",
       "    <tr>\n",
       "      <th>997</th>\n",
       "      <td>A covert team of immortal mercenaries is sudde...</td>\n",
       "    </tr>\n",
       "    <tr>\n",
       "      <th>998</th>\n",
       "      <td>James Bond uncovers a nuclear plot while prote...</td>\n",
       "    </tr>\n",
       "  </tbody>\n",
       "</table>\n",
       "<p>999 rows × 1 columns</p>\n",
       "</div>"
      ],
      "text/plain": [
       "                                              thriller\n",
       "0    Anthology series in which police investigation...\n",
       "1    A student at Oxford University finds himself d...\n",
       "2    Itinerant former military policeman Jack Reach...\n",
       "3    Various chronicles of deception, intrigue, and...\n",
       "4    Widowed mum Maya is disturbed by an image of h...\n",
       "..                                                 ...\n",
       "994  One of the world's top bodyguards gets a new c...\n",
       "995  An attorney intending on climbing the career l...\n",
       "996  An ambitious young executive is sent to retrie...\n",
       "997  A covert team of immortal mercenaries is sudde...\n",
       "998  James Bond uncovers a nuclear plot while prote...\n",
       "\n",
       "[999 rows x 1 columns]"
      ]
     },
     "execution_count": 206,
     "metadata": {},
     "output_type": "execute_result"
    }
   ],
   "source": [
    "df = pd.DataFrame({\"thriller\": data})\n",
    "df"
   ]
  },
  {
   "cell_type": "code",
   "execution_count": 207,
   "id": "f35977a4-8f2a-418b-a3c7-ad1729ceb476",
   "metadata": {},
   "outputs": [],
   "source": [
    "df.to_csv(\"thriller.csv\")"
   ]
  },
  {
   "cell_type": "markdown",
   "id": "4f65760c-849e-4581-945f-a854d9b72c56",
   "metadata": {},
   "source": [
    "**COMEDY**"
   ]
  },
  {
   "cell_type": "code",
   "execution_count": 208,
   "id": "d79c5fc5-6b71-45eb-92b8-880e9fa7037f",
   "metadata": {},
   "outputs": [],
   "source": [
    "driver = webdriver.Edge()"
   ]
  },
  {
   "cell_type": "code",
   "execution_count": 209,
   "id": "f860b7a9-30e0-4f19-a68b-5bf00371f860",
   "metadata": {},
   "outputs": [],
   "source": [
    "driver.get(f\"https://www.imdb.com/search/title/?genres=comedy\")"
   ]
  },
  {
   "cell_type": "code",
   "execution_count": 216,
   "id": "1c3cd97f-408f-45e8-83f2-c434c26d4e80",
   "metadata": {},
   "outputs": [],
   "source": [
    "soup = BeautifulSoup(driver.page_source,\"lxml\")"
   ]
  },
  {
   "cell_type": "code",
   "execution_count": 217,
   "id": "e3047145-598d-4778-b481-5fb2b27ab904",
   "metadata": {},
   "outputs": [],
   "source": [
    "mo =soup.find(\"ul\",class_=\"ipc-metadata-list ipc-metadata-list--dividers-between sc-315eec58-0 hvFmRn detailed-list-view ipc-metadata-list--base\")"
   ]
  },
  {
   "cell_type": "code",
   "execution_count": 218,
   "id": "a741e488-7a87-4793-9d8d-bfd1d4be0e06",
   "metadata": {},
   "outputs": [],
   "source": [
    "data = []\n",
    "for x in mo.find_all(\"div\",class_= \"ipc-html-content-inner-div\"):\n",
    "    data.append(x.text)"
   ]
  },
  {
   "cell_type": "code",
   "execution_count": 219,
   "id": "0995bb8d-a6ea-4f61-a2ed-4e51fedaed48",
   "metadata": {},
   "outputs": [
    {
     "data": {
      "text/plain": [
       "1050"
      ]
     },
     "execution_count": 219,
     "metadata": {},
     "output_type": "execute_result"
    }
   ],
   "source": [
    "len(data)"
   ]
  },
  {
   "cell_type": "code",
   "execution_count": 220,
   "id": "69247ead-a96e-4de7-8953-29913fec0238",
   "metadata": {
    "scrolled": true
   },
   "outputs": [
    {
     "data": {
      "text/html": [
       "<div>\n",
       "<style scoped>\n",
       "    .dataframe tbody tr th:only-of-type {\n",
       "        vertical-align: middle;\n",
       "    }\n",
       "\n",
       "    .dataframe tbody tr th {\n",
       "        vertical-align: top;\n",
       "    }\n",
       "\n",
       "    .dataframe thead th {\n",
       "        text-align: right;\n",
       "    }\n",
       "</style>\n",
       "<table border=\"1\" class=\"dataframe\">\n",
       "  <thead>\n",
       "    <tr style=\"text-align: right;\">\n",
       "      <th></th>\n",
       "      <th>comedy</th>\n",
       "    </tr>\n",
       "  </thead>\n",
       "  <tbody>\n",
       "    <tr>\n",
       "      <th>0</th>\n",
       "      <td>A student at Oxford University finds himself d...</td>\n",
       "    </tr>\n",
       "    <tr>\n",
       "      <th>1</th>\n",
       "      <td>The incredible tale about the fantastical evol...</td>\n",
       "    </tr>\n",
       "    <tr>\n",
       "      <th>2</th>\n",
       "      <td>Cady Heron is a hit with the Plastics, an A-li...</td>\n",
       "    </tr>\n",
       "    <tr>\n",
       "      <th>3</th>\n",
       "      <td>It's 1993, and Ted the bear's moment of fame h...</td>\n",
       "    </tr>\n",
       "    <tr>\n",
       "      <th>4</th>\n",
       "      <td>A young chef from the fine dining world return...</td>\n",
       "    </tr>\n",
       "    <tr>\n",
       "      <th>...</th>\n",
       "      <td>...</td>\n",
       "    </tr>\n",
       "    <tr>\n",
       "      <th>1045</th>\n",
       "      <td>Divorced contractor Frank Lambert and widowed ...</td>\n",
       "    </tr>\n",
       "    <tr>\n",
       "      <th>1046</th>\n",
       "      <td>A young African-American teen attempts to surv...</td>\n",
       "    </tr>\n",
       "    <tr>\n",
       "      <th>1047</th>\n",
       "      <td>Having thought that monogamy was never possibl...</td>\n",
       "    </tr>\n",
       "    <tr>\n",
       "      <th>1048</th>\n",
       "      <td>A spoof on previous years' epic movies (The Da...</td>\n",
       "    </tr>\n",
       "    <tr>\n",
       "      <th>1049</th>\n",
       "      <td>The life of a twelve-year-old boy who happens ...</td>\n",
       "    </tr>\n",
       "  </tbody>\n",
       "</table>\n",
       "<p>1050 rows × 1 columns</p>\n",
       "</div>"
      ],
      "text/plain": [
       "                                                 comedy\n",
       "0     A student at Oxford University finds himself d...\n",
       "1     The incredible tale about the fantastical evol...\n",
       "2     Cady Heron is a hit with the Plastics, an A-li...\n",
       "3     It's 1993, and Ted the bear's moment of fame h...\n",
       "4     A young chef from the fine dining world return...\n",
       "...                                                 ...\n",
       "1045  Divorced contractor Frank Lambert and widowed ...\n",
       "1046  A young African-American teen attempts to surv...\n",
       "1047  Having thought that monogamy was never possibl...\n",
       "1048  A spoof on previous years' epic movies (The Da...\n",
       "1049  The life of a twelve-year-old boy who happens ...\n",
       "\n",
       "[1050 rows x 1 columns]"
      ]
     },
     "execution_count": 220,
     "metadata": {},
     "output_type": "execute_result"
    }
   ],
   "source": [
    "df = pd.DataFrame({\"comedy\": data})\n",
    "df"
   ]
  },
  {
   "cell_type": "code",
   "execution_count": 221,
   "id": "20804ed6-02bd-4c37-9cf1-c2e838fc9dd5",
   "metadata": {},
   "outputs": [],
   "source": [
    "df.to_csv(\"comedy.csv\")"
   ]
  },
  {
   "cell_type": "markdown",
   "id": "6926dbdb-21a1-4bf6-9054-2163a9b42924",
   "metadata": {},
   "source": [
    "**ANIMATION**"
   ]
  },
  {
   "cell_type": "code",
   "execution_count": 222,
   "id": "a05537fc-1c6f-4ab1-8f30-d755b874d1b9",
   "metadata": {},
   "outputs": [],
   "source": [
    "driver = webdriver.Edge()"
   ]
  },
  {
   "cell_type": "code",
   "execution_count": 223,
   "id": "fa9c0166-d4cb-43d1-8243-cf9c9871c574",
   "metadata": {},
   "outputs": [],
   "source": [
    "driver.get(f\"https://www.imdb.com/search/title/?genres=animation\")"
   ]
  },
  {
   "cell_type": "code",
   "execution_count": 229,
   "id": "6799f1ac-a921-4219-8d23-f3b558d3e364",
   "metadata": {},
   "outputs": [],
   "source": [
    "soup = BeautifulSoup(driver.page_source,\"lxml\")"
   ]
  },
  {
   "cell_type": "code",
   "execution_count": 230,
   "id": "08d951af-08c8-4f3e-a2d2-f69655a8ead2",
   "metadata": {},
   "outputs": [],
   "source": [
    "mo =soup.find(\"ul\",class_=\"ipc-metadata-list ipc-metadata-list--dividers-between sc-315eec58-0 hvFmRn detailed-list-view ipc-metadata-list--base\")"
   ]
  },
  {
   "cell_type": "code",
   "execution_count": 231,
   "id": "868c7cf6-a658-4417-aed4-3847617b6c04",
   "metadata": {},
   "outputs": [],
   "source": [
    "data = []\n",
    "for x in mo.find_all(\"div\",class_= \"ipc-html-content-inner-div\"):\n",
    "    data.append(x.text)"
   ]
  },
  {
   "cell_type": "code",
   "execution_count": 232,
   "id": "3dfca0a9-4112-4d8f-b83d-f9f37bed8289",
   "metadata": {},
   "outputs": [
    {
     "data": {
      "text/plain": [
       "949"
      ]
     },
     "execution_count": 232,
     "metadata": {},
     "output_type": "execute_result"
    }
   ],
   "source": [
    "len(data)"
   ]
  },
  {
   "cell_type": "code",
   "execution_count": 233,
   "id": "1d4606f8-57a9-4614-b86a-c9aefc847685",
   "metadata": {
    "scrolled": true
   },
   "outputs": [
    {
     "data": {
      "text/html": [
       "<div>\n",
       "<style scoped>\n",
       "    .dataframe tbody tr th:only-of-type {\n",
       "        vertical-align: middle;\n",
       "    }\n",
       "\n",
       "    .dataframe tbody tr th {\n",
       "        vertical-align: top;\n",
       "    }\n",
       "\n",
       "    .dataframe thead th {\n",
       "        text-align: right;\n",
       "    }\n",
       "</style>\n",
       "<table border=\"1\" class=\"dataframe\">\n",
       "  <thead>\n",
       "    <tr style=\"text-align: right;\">\n",
       "      <th></th>\n",
       "      <th>animation</th>\n",
       "    </tr>\n",
       "  </thead>\n",
       "  <tbody>\n",
       "    <tr>\n",
       "      <th>0</th>\n",
       "      <td>In an attempt to find a non-violent alternativ...</td>\n",
       "    </tr>\n",
       "    <tr>\n",
       "      <th>1</th>\n",
       "      <td>In a world of gifted hunters and monsters, a w...</td>\n",
       "    </tr>\n",
       "    <tr>\n",
       "      <th>2</th>\n",
       "      <td>A young boy named Mahito yearning for his moth...</td>\n",
       "    </tr>\n",
       "    <tr>\n",
       "      <th>3</th>\n",
       "      <td>Monkey D. Luffy sets off on an adventure with ...</td>\n",
       "    </tr>\n",
       "    <tr>\n",
       "      <th>4</th>\n",
       "      <td>The fractured domestic lives of a nihilistic m...</td>\n",
       "    </tr>\n",
       "    <tr>\n",
       "      <th>...</th>\n",
       "      <td>...</td>\n",
       "    </tr>\n",
       "    <tr>\n",
       "      <th>944</th>\n",
       "      <td>The year is 2242. Kanata wants to be a Drifter...</td>\n",
       "    </tr>\n",
       "    <tr>\n",
       "      <th>945</th>\n",
       "      <td>After 74 villains break out of prison, Marvel'...</td>\n",
       "    </tr>\n",
       "    <tr>\n",
       "      <th>946</th>\n",
       "      <td>A slight malfunction causes Chaos Control, and...</td>\n",
       "    </tr>\n",
       "    <tr>\n",
       "      <th>947</th>\n",
       "      <td>Animated fable about a cliché hunchbacked evil...</td>\n",
       "    </tr>\n",
       "    <tr>\n",
       "      <th>948</th>\n",
       "      <td>The story of two 30-year old bird women who li...</td>\n",
       "    </tr>\n",
       "  </tbody>\n",
       "</table>\n",
       "<p>949 rows × 1 columns</p>\n",
       "</div>"
      ],
      "text/plain": [
       "                                             animation\n",
       "0    In an attempt to find a non-violent alternativ...\n",
       "1    In a world of gifted hunters and monsters, a w...\n",
       "2    A young boy named Mahito yearning for his moth...\n",
       "3    Monkey D. Luffy sets off on an adventure with ...\n",
       "4    The fractured domestic lives of a nihilistic m...\n",
       "..                                                 ...\n",
       "944  The year is 2242. Kanata wants to be a Drifter...\n",
       "945  After 74 villains break out of prison, Marvel'...\n",
       "946  A slight malfunction causes Chaos Control, and...\n",
       "947  Animated fable about a cliché hunchbacked evil...\n",
       "948  The story of two 30-year old bird women who li...\n",
       "\n",
       "[949 rows x 1 columns]"
      ]
     },
     "execution_count": 233,
     "metadata": {},
     "output_type": "execute_result"
    }
   ],
   "source": [
    "df = pd.DataFrame({\"animation\": data})\n",
    "df"
   ]
  },
  {
   "cell_type": "code",
   "execution_count": 234,
   "id": "cd3d2365-97dc-44bc-93bb-771776f34524",
   "metadata": {},
   "outputs": [],
   "source": [
    "df.to_csv(\"animation.csv\")"
   ]
  },
  {
   "cell_type": "markdown",
   "id": "0359e197-af81-433f-95b5-61edeb6bfe83",
   "metadata": {},
   "source": [
    "**DRAMA**"
   ]
  },
  {
   "cell_type": "code",
   "execution_count": 235,
   "id": "554a30ec-6e83-463b-902d-17765fd4414e",
   "metadata": {},
   "outputs": [],
   "source": [
    "driver = webdriver.Edge()"
   ]
  },
  {
   "cell_type": "code",
   "execution_count": 236,
   "id": "04063516-8788-4aa8-981e-6160a2bcaf27",
   "metadata": {},
   "outputs": [],
   "source": [
    "driver.get(f\"https://www.imdb.com/search/title/?genres=drama\")"
   ]
  },
  {
   "cell_type": "code",
   "execution_count": 242,
   "id": "192c2b5a-9ce8-461a-95d3-2d04493f12ba",
   "metadata": {},
   "outputs": [],
   "source": [
    "soup = BeautifulSoup(driver.page_source,\"lxml\")"
   ]
  },
  {
   "cell_type": "code",
   "execution_count": 243,
   "id": "c4d47938-1c52-44d5-a2a8-5c22a07602e0",
   "metadata": {},
   "outputs": [],
   "source": [
    "mo =soup.find(\"ul\",class_=\"ipc-metadata-list ipc-metadata-list--dividers-between sc-315eec58-0 hvFmRn detailed-list-view ipc-metadata-list--base\")"
   ]
  },
  {
   "cell_type": "code",
   "execution_count": 244,
   "id": "96e44b48-fe41-4e84-92dc-1d6ac323fa7e",
   "metadata": {},
   "outputs": [],
   "source": [
    "data = []\n",
    "for x in mo.find_all(\"div\",class_= \"ipc-html-content-inner-div\"):\n",
    "    data.append(x.text)"
   ]
  },
  {
   "cell_type": "code",
   "execution_count": 245,
   "id": "eab4c6e9-37a8-4748-907f-052cf7219b7e",
   "metadata": {},
   "outputs": [
    {
     "data": {
      "text/plain": [
       "1000"
      ]
     },
     "execution_count": 245,
     "metadata": {},
     "output_type": "execute_result"
    }
   ],
   "source": [
    "len(data)"
   ]
  },
  {
   "cell_type": "code",
   "execution_count": 246,
   "id": "a7d270ae-1305-4f8e-97cd-a4a2c180519f",
   "metadata": {
    "scrolled": true
   },
   "outputs": [
    {
     "data": {
      "text/html": [
       "<div>\n",
       "<style scoped>\n",
       "    .dataframe tbody tr th:only-of-type {\n",
       "        vertical-align: middle;\n",
       "    }\n",
       "\n",
       "    .dataframe tbody tr th {\n",
       "        vertical-align: top;\n",
       "    }\n",
       "\n",
       "    .dataframe thead th {\n",
       "        text-align: right;\n",
       "    }\n",
       "</style>\n",
       "<table border=\"1\" class=\"dataframe\">\n",
       "  <thead>\n",
       "    <tr style=\"text-align: right;\">\n",
       "      <th></th>\n",
       "      <th>drama</th>\n",
       "    </tr>\n",
       "  </thead>\n",
       "  <tbody>\n",
       "    <tr>\n",
       "      <th>0</th>\n",
       "      <td>Anthology series in which police investigation...</td>\n",
       "    </tr>\n",
       "    <tr>\n",
       "      <th>1</th>\n",
       "      <td>A student at Oxford University finds himself d...</td>\n",
       "    </tr>\n",
       "    <tr>\n",
       "      <th>2</th>\n",
       "      <td>Itinerant former military policeman Jack Reach...</td>\n",
       "    </tr>\n",
       "    <tr>\n",
       "      <th>3</th>\n",
       "      <td>Various chronicles of deception, intrigue, and...</td>\n",
       "    </tr>\n",
       "    <tr>\n",
       "      <th>4</th>\n",
       "      <td>The incredible tale about the fantastical evol...</td>\n",
       "    </tr>\n",
       "    <tr>\n",
       "      <th>...</th>\n",
       "      <td>...</td>\n",
       "    </tr>\n",
       "    <tr>\n",
       "      <th>995</th>\n",
       "      <td>Follows a neurosurgeon who discovers she is th...</td>\n",
       "    </tr>\n",
       "    <tr>\n",
       "      <th>996</th>\n",
       "      <td>A cold case turns topical again and turns ever...</td>\n",
       "    </tr>\n",
       "    <tr>\n",
       "      <th>997</th>\n",
       "      <td>Witness the making of Tony Soprano. The story ...</td>\n",
       "    </tr>\n",
       "    <tr>\n",
       "      <th>998</th>\n",
       "      <td>A former minor-league basketball coach is orde...</td>\n",
       "    </tr>\n",
       "    <tr>\n",
       "      <th>999</th>\n",
       "      <td>When her father unexpectedly dies, young Ella ...</td>\n",
       "    </tr>\n",
       "  </tbody>\n",
       "</table>\n",
       "<p>1000 rows × 1 columns</p>\n",
       "</div>"
      ],
      "text/plain": [
       "                                                 drama\n",
       "0    Anthology series in which police investigation...\n",
       "1    A student at Oxford University finds himself d...\n",
       "2    Itinerant former military policeman Jack Reach...\n",
       "3    Various chronicles of deception, intrigue, and...\n",
       "4    The incredible tale about the fantastical evol...\n",
       "..                                                 ...\n",
       "995  Follows a neurosurgeon who discovers she is th...\n",
       "996  A cold case turns topical again and turns ever...\n",
       "997  Witness the making of Tony Soprano. The story ...\n",
       "998  A former minor-league basketball coach is orde...\n",
       "999  When her father unexpectedly dies, young Ella ...\n",
       "\n",
       "[1000 rows x 1 columns]"
      ]
     },
     "execution_count": 246,
     "metadata": {},
     "output_type": "execute_result"
    }
   ],
   "source": [
    "df = pd.DataFrame({\"drama\": data})\n",
    "df"
   ]
  },
  {
   "cell_type": "code",
   "execution_count": 247,
   "id": "f1a4d6d3-9818-48d7-9563-d2cde7047101",
   "metadata": {},
   "outputs": [],
   "source": [
    "df.to_csv(\"drama.csv\")"
   ]
  },
  {
   "cell_type": "markdown",
   "id": "511954fd-0ca8-4571-addc-eb6cd0997150",
   "metadata": {},
   "source": [
    "**HORROR**"
   ]
  },
  {
   "cell_type": "code",
   "execution_count": 248,
   "id": "3a07b8e5-12d0-45e4-869c-a4d47409a22a",
   "metadata": {},
   "outputs": [],
   "source": [
    "driver = webdriver.Edge()"
   ]
  },
  {
   "cell_type": "code",
   "execution_count": 249,
   "id": "8fdccb1c-2f51-41b9-af5e-e5fac2f7c7d4",
   "metadata": {},
   "outputs": [],
   "source": [
    "driver.get(f\"https://www.imdb.com/search/title/?genres=horror\")"
   ]
  },
  {
   "cell_type": "code",
   "execution_count": 260,
   "id": "941b4ee2-b285-4805-b010-ee8267f1cadf",
   "metadata": {},
   "outputs": [],
   "source": [
    "soup = BeautifulSoup(driver.page_source,\"lxml\")"
   ]
  },
  {
   "cell_type": "code",
   "execution_count": 261,
   "id": "457ede02-9114-4d98-a1db-a5048dc5cf26",
   "metadata": {},
   "outputs": [],
   "source": [
    "mo =soup.find(\"ul\",class_=\"ipc-metadata-list ipc-metadata-list--dividers-between sc-315eec58-0 hvFmRn detailed-list-view ipc-metadata-list--base\")"
   ]
  },
  {
   "cell_type": "code",
   "execution_count": 262,
   "id": "9d7858f4-6147-4eac-a410-5dd31f04ef7e",
   "metadata": {},
   "outputs": [],
   "source": [
    "data = []\n",
    "for x in mo.find_all(\"div\",class_= \"ipc-html-content-inner-div\"):\n",
    "    data.append(x.text)"
   ]
  },
  {
   "cell_type": "code",
   "execution_count": 263,
   "id": "b7f0dfbc-fc64-48d5-a1bc-f8911dabbc05",
   "metadata": {},
   "outputs": [
    {
     "data": {
      "text/plain": [
       "997"
      ]
     },
     "execution_count": 263,
     "metadata": {},
     "output_type": "execute_result"
    }
   ],
   "source": [
    "len(data)"
   ]
  },
  {
   "cell_type": "code",
   "execution_count": 264,
   "id": "f8343044-57ea-453c-b4e7-9206e101a145",
   "metadata": {
    "scrolled": true
   },
   "outputs": [
    {
     "data": {
      "text/html": [
       "<div>\n",
       "<style scoped>\n",
       "    .dataframe tbody tr th:only-of-type {\n",
       "        vertical-align: middle;\n",
       "    }\n",
       "\n",
       "    .dataframe tbody tr th {\n",
       "        vertical-align: top;\n",
       "    }\n",
       "\n",
       "    .dataframe thead th {\n",
       "        text-align: right;\n",
       "    }\n",
       "</style>\n",
       "<table border=\"1\" class=\"dataframe\">\n",
       "  <thead>\n",
       "    <tr style=\"text-align: right;\">\n",
       "      <th></th>\n",
       "      <th>horror</th>\n",
       "    </tr>\n",
       "  </thead>\n",
       "  <tbody>\n",
       "    <tr>\n",
       "      <th>0</th>\n",
       "      <td>In an attempt to find a non-violent alternativ...</td>\n",
       "    </tr>\n",
       "    <tr>\n",
       "      <th>1</th>\n",
       "      <td>Sheriff Deputy Rick Grimes wakes up from a com...</td>\n",
       "    </tr>\n",
       "    <tr>\n",
       "      <th>2</th>\n",
       "      <td>After a global pandemic destroys civilization,...</td>\n",
       "    </tr>\n",
       "    <tr>\n",
       "      <th>3</th>\n",
       "      <td>After a group of criminals kidnap the ballerin...</td>\n",
       "    </tr>\n",
       "    <tr>\n",
       "      <th>4</th>\n",
       "      <td>Two brothers follow their father's footsteps a...</td>\n",
       "    </tr>\n",
       "    <tr>\n",
       "      <th>...</th>\n",
       "      <td>...</td>\n",
       "    </tr>\n",
       "    <tr>\n",
       "      <th>992</th>\n",
       "      <td>Despite his devotion to his hometown of Salem ...</td>\n",
       "    </tr>\n",
       "    <tr>\n",
       "      <th>993</th>\n",
       "      <td>A woman with a mysterious illness is forced in...</td>\n",
       "    </tr>\n",
       "    <tr>\n",
       "      <th>994</th>\n",
       "      <td>At the scene of a bizarre murder, L.A. homicid...</td>\n",
       "    </tr>\n",
       "    <tr>\n",
       "      <th>995</th>\n",
       "      <td>As the world is overrun by zombies, a group of...</td>\n",
       "    </tr>\n",
       "    <tr>\n",
       "      <th>996</th>\n",
       "      <td>Inspired by the terrifying story of Robert \"Wi...</td>\n",
       "    </tr>\n",
       "  </tbody>\n",
       "</table>\n",
       "<p>997 rows × 1 columns</p>\n",
       "</div>"
      ],
      "text/plain": [
       "                                                horror\n",
       "0    In an attempt to find a non-violent alternativ...\n",
       "1    Sheriff Deputy Rick Grimes wakes up from a com...\n",
       "2    After a global pandemic destroys civilization,...\n",
       "3    After a group of criminals kidnap the ballerin...\n",
       "4    Two brothers follow their father's footsteps a...\n",
       "..                                                 ...\n",
       "992  Despite his devotion to his hometown of Salem ...\n",
       "993  A woman with a mysterious illness is forced in...\n",
       "994  At the scene of a bizarre murder, L.A. homicid...\n",
       "995  As the world is overrun by zombies, a group of...\n",
       "996  Inspired by the terrifying story of Robert \"Wi...\n",
       "\n",
       "[997 rows x 1 columns]"
      ]
     },
     "execution_count": 264,
     "metadata": {},
     "output_type": "execute_result"
    }
   ],
   "source": [
    "df = pd.DataFrame({\"horror\": data})\n",
    "df"
   ]
  },
  {
   "cell_type": "code",
   "execution_count": 265,
   "id": "d95aac41-0822-4415-a6a4-d0cd185e4db8",
   "metadata": {},
   "outputs": [],
   "source": [
    "df.to_csv(\"horror.csv\")"
   ]
  },
  {
   "cell_type": "markdown",
   "id": "a6ff1aea-b998-4f2f-95ba-922ee7a2cf7b",
   "metadata": {},
   "source": [
    "**MYSTERY**"
   ]
  },
  {
   "cell_type": "code",
   "execution_count": 266,
   "id": "939c698c-3cd8-46a1-94fc-1ac13790904a",
   "metadata": {},
   "outputs": [],
   "source": [
    "driver = webdriver.Edge()"
   ]
  },
  {
   "cell_type": "code",
   "execution_count": 267,
   "id": "7a380a50-c4e8-4364-9369-3a2ff72cc37d",
   "metadata": {},
   "outputs": [],
   "source": [
    "driver.get(f\"https://www.imdb.com/search/title/?genres=mystery\")"
   ]
  },
  {
   "cell_type": "code",
   "execution_count": 278,
   "id": "51f9d1cb-564e-44a8-8440-304981f3d49f",
   "metadata": {},
   "outputs": [],
   "source": [
    "soup = BeautifulSoup(driver.page_source,\"lxml\")"
   ]
  },
  {
   "cell_type": "code",
   "execution_count": 279,
   "id": "cc9850a4-1e00-4ff8-baef-c9ed296c18cf",
   "metadata": {},
   "outputs": [],
   "source": [
    "mo =soup.find(\"ul\",class_=\"ipc-metadata-list ipc-metadata-list--dividers-between sc-315eec58-0 hvFmRn detailed-list-view ipc-metadata-list--base\")"
   ]
  },
  {
   "cell_type": "code",
   "execution_count": 280,
   "id": "26faac08-81c7-40fe-a824-cdd3bb8b759f",
   "metadata": {},
   "outputs": [],
   "source": [
    "data = []\n",
    "for x in mo.find_all(\"div\",class_= \"ipc-html-content-inner-div\"):\n",
    "    data.append(x.text)"
   ]
  },
  {
   "cell_type": "code",
   "execution_count": 281,
   "id": "1f974777-9227-4410-842c-5755e507fdbc",
   "metadata": {},
   "outputs": [
    {
     "data": {
      "text/plain": [
       "1049"
      ]
     },
     "execution_count": 281,
     "metadata": {},
     "output_type": "execute_result"
    }
   ],
   "source": [
    "len(data)"
   ]
  },
  {
   "cell_type": "code",
   "execution_count": 282,
   "id": "314dc858-7b4d-4267-9c82-9abb08cc2b8c",
   "metadata": {},
   "outputs": [
    {
     "data": {
      "text/html": [
       "<div>\n",
       "<style scoped>\n",
       "    .dataframe tbody tr th:only-of-type {\n",
       "        vertical-align: middle;\n",
       "    }\n",
       "\n",
       "    .dataframe tbody tr th {\n",
       "        vertical-align: top;\n",
       "    }\n",
       "\n",
       "    .dataframe thead th {\n",
       "        text-align: right;\n",
       "    }\n",
       "</style>\n",
       "<table border=\"1\" class=\"dataframe\">\n",
       "  <thead>\n",
       "    <tr style=\"text-align: right;\">\n",
       "      <th></th>\n",
       "      <th>mystery</th>\n",
       "    </tr>\n",
       "  </thead>\n",
       "  <tbody>\n",
       "    <tr>\n",
       "      <th>0</th>\n",
       "      <td>Anthology series in which police investigation...</td>\n",
       "    </tr>\n",
       "    <tr>\n",
       "      <th>1</th>\n",
       "      <td>Widowed mum Maya is disturbed by an image of h...</td>\n",
       "    </tr>\n",
       "    <tr>\n",
       "      <th>2</th>\n",
       "      <td>In 1980s Brisbane, a precocious boy and his se...</td>\n",
       "    </tr>\n",
       "    <tr>\n",
       "      <th>3</th>\n",
       "      <td>Maya Lopez must face her past, reconnect with ...</td>\n",
       "    </tr>\n",
       "    <tr>\n",
       "      <th>4</th>\n",
       "      <td>When oil is discovered in 1920s Oklahoma under...</td>\n",
       "    </tr>\n",
       "    <tr>\n",
       "      <th>...</th>\n",
       "      <td>...</td>\n",
       "    </tr>\n",
       "    <tr>\n",
       "      <th>1044</th>\n",
       "      <td>From the moment the new Reverend climbs the pu...</td>\n",
       "    </tr>\n",
       "    <tr>\n",
       "      <th>1045</th>\n",
       "      <td>When the owner and operator of a luxurious isl...</td>\n",
       "    </tr>\n",
       "    <tr>\n",
       "      <th>1046</th>\n",
       "      <td>Paul is a U.S. truck driver working in Iraq. A...</td>\n",
       "    </tr>\n",
       "    <tr>\n",
       "      <th>1047</th>\n",
       "      <td>After a doctor is called to visit a crumbling ...</td>\n",
       "    </tr>\n",
       "    <tr>\n",
       "      <th>1048</th>\n",
       "      <td>A simple yet proud farmer in the year 1922 con...</td>\n",
       "    </tr>\n",
       "  </tbody>\n",
       "</table>\n",
       "<p>1049 rows × 1 columns</p>\n",
       "</div>"
      ],
      "text/plain": [
       "                                                mystery\n",
       "0     Anthology series in which police investigation...\n",
       "1     Widowed mum Maya is disturbed by an image of h...\n",
       "2     In 1980s Brisbane, a precocious boy and his se...\n",
       "3     Maya Lopez must face her past, reconnect with ...\n",
       "4     When oil is discovered in 1920s Oklahoma under...\n",
       "...                                                 ...\n",
       "1044  From the moment the new Reverend climbs the pu...\n",
       "1045  When the owner and operator of a luxurious isl...\n",
       "1046  Paul is a U.S. truck driver working in Iraq. A...\n",
       "1047  After a doctor is called to visit a crumbling ...\n",
       "1048  A simple yet proud farmer in the year 1922 con...\n",
       "\n",
       "[1049 rows x 1 columns]"
      ]
     },
     "execution_count": 282,
     "metadata": {},
     "output_type": "execute_result"
    }
   ],
   "source": [
    "df = pd.DataFrame({\"mystery\": data})\n",
    "df"
   ]
  },
  {
   "cell_type": "code",
   "execution_count": 283,
   "id": "3f852aa1-d81b-4933-ba43-820e937d728a",
   "metadata": {},
   "outputs": [],
   "source": [
    "df.to_csv(\"mystery.csv\")"
   ]
  },
  {
   "cell_type": "markdown",
   "id": "1ea66fea-366e-4bb5-a329-4d603f8fa8c6",
   "metadata": {},
   "source": [
    "**CRIME**"
   ]
  },
  {
   "cell_type": "code",
   "execution_count": 284,
   "id": "f9ae8a0a-0d59-447a-bc5b-49321ef639b3",
   "metadata": {},
   "outputs": [],
   "source": [
    "driver = webdriver.Edge()"
   ]
  },
  {
   "cell_type": "code",
   "execution_count": 285,
   "id": "c632efe9-224f-4cda-8940-415d9a172dcb",
   "metadata": {},
   "outputs": [],
   "source": [
    "driver.get(f\"https://www.imdb.com/search/title/?genres=crime\")"
   ]
  },
  {
   "cell_type": "code",
   "execution_count": 286,
   "id": "c5e6b35e-f64a-403e-b4e2-d5814d472b37",
   "metadata": {},
   "outputs": [],
   "source": [
    "soup = BeautifulSoup(driver.page_source,\"lxml\")"
   ]
  },
  {
   "cell_type": "code",
   "execution_count": 287,
   "id": "7062889a-a261-4d53-8440-8cad41c1cbae",
   "metadata": {},
   "outputs": [],
   "source": [
    "mo =soup.find(\"ul\",class_=\"ipc-metadata-list ipc-metadata-list--dividers-between sc-315eec58-0 hvFmRn detailed-list-view ipc-metadata-list--base\")"
   ]
  },
  {
   "cell_type": "code",
   "execution_count": 288,
   "id": "0d9a5872-be11-45f3-9da5-f29ac554ce7a",
   "metadata": {},
   "outputs": [],
   "source": [
    "data = []\n",
    "for x in mo.find_all(\"div\",class_= \"ipc-html-content-inner-div\"):\n",
    "    data.append(x.text)"
   ]
  },
  {
   "cell_type": "code",
   "execution_count": 289,
   "id": "b5f82c8e-26ae-4a7c-a17f-5c3e8223783e",
   "metadata": {},
   "outputs": [
    {
     "data": {
      "text/plain": [
       "999"
      ]
     },
     "execution_count": 289,
     "metadata": {},
     "output_type": "execute_result"
    }
   ],
   "source": [
    "len(data)"
   ]
  },
  {
   "cell_type": "code",
   "execution_count": 290,
   "id": "ef6e10fc-3c5d-4b4c-b2e5-2f2a32f16fbe",
   "metadata": {
    "scrolled": true
   },
   "outputs": [
    {
     "data": {
      "text/html": [
       "<div>\n",
       "<style scoped>\n",
       "    .dataframe tbody tr th:only-of-type {\n",
       "        vertical-align: middle;\n",
       "    }\n",
       "\n",
       "    .dataframe tbody tr th {\n",
       "        vertical-align: top;\n",
       "    }\n",
       "\n",
       "    .dataframe thead th {\n",
       "        text-align: right;\n",
       "    }\n",
       "</style>\n",
       "<table border=\"1\" class=\"dataframe\">\n",
       "  <thead>\n",
       "    <tr style=\"text-align: right;\">\n",
       "      <th></th>\n",
       "      <th>crime</th>\n",
       "    </tr>\n",
       "  </thead>\n",
       "  <tbody>\n",
       "    <tr>\n",
       "      <th>0</th>\n",
       "      <td>Anthology series in which police investigation...</td>\n",
       "    </tr>\n",
       "    <tr>\n",
       "      <th>1</th>\n",
       "      <td>Itinerant former military policeman Jack Reach...</td>\n",
       "    </tr>\n",
       "    <tr>\n",
       "      <th>2</th>\n",
       "      <td>Various chronicles of deception, intrigue, and...</td>\n",
       "    </tr>\n",
       "    <tr>\n",
       "      <th>3</th>\n",
       "      <td>Widowed mum Maya is disturbed by an image of h...</td>\n",
       "    </tr>\n",
       "    <tr>\n",
       "      <th>4</th>\n",
       "      <td>In 1980s Brisbane, a precocious boy and his se...</td>\n",
       "    </tr>\n",
       "    <tr>\n",
       "      <th>...</th>\n",
       "      <td>...</td>\n",
       "    </tr>\n",
       "    <tr>\n",
       "      <th>994</th>\n",
       "      <td>Two chained-together escaped convicts, White a...</td>\n",
       "    </tr>\n",
       "    <tr>\n",
       "      <th>995</th>\n",
       "      <td>An agoraphobic woman living alone in New York ...</td>\n",
       "    </tr>\n",
       "    <tr>\n",
       "      <th>996</th>\n",
       "      <td>A crisis-stricken, morally-compromised first-r...</td>\n",
       "    </tr>\n",
       "    <tr>\n",
       "      <th>997</th>\n",
       "      <td>A married couple's life is turned upside down ...</td>\n",
       "    </tr>\n",
       "    <tr>\n",
       "      <th>998</th>\n",
       "      <td>Two teenage girls share a unique bond; their p...</td>\n",
       "    </tr>\n",
       "  </tbody>\n",
       "</table>\n",
       "<p>999 rows × 1 columns</p>\n",
       "</div>"
      ],
      "text/plain": [
       "                                                 crime\n",
       "0    Anthology series in which police investigation...\n",
       "1    Itinerant former military policeman Jack Reach...\n",
       "2    Various chronicles of deception, intrigue, and...\n",
       "3    Widowed mum Maya is disturbed by an image of h...\n",
       "4    In 1980s Brisbane, a precocious boy and his se...\n",
       "..                                                 ...\n",
       "994  Two chained-together escaped convicts, White a...\n",
       "995  An agoraphobic woman living alone in New York ...\n",
       "996  A crisis-stricken, morally-compromised first-r...\n",
       "997  A married couple's life is turned upside down ...\n",
       "998  Two teenage girls share a unique bond; their p...\n",
       "\n",
       "[999 rows x 1 columns]"
      ]
     },
     "execution_count": 290,
     "metadata": {},
     "output_type": "execute_result"
    }
   ],
   "source": [
    "df = pd.DataFrame({\"crime\": data})\n",
    "df"
   ]
  },
  {
   "cell_type": "code",
   "execution_count": 291,
   "id": "adf050b2-1f88-487f-be83-b178c4db4c2c",
   "metadata": {},
   "outputs": [],
   "source": [
    "df.to_csv(\"crime.csv\")"
   ]
  },
  {
   "cell_type": "markdown",
   "id": "f997af2d-f584-49da-8f95-99a53c11c8d3",
   "metadata": {},
   "source": [
    "**FANTASY**"
   ]
  },
  {
   "cell_type": "code",
   "execution_count": 292,
   "id": "dc10de06-6407-4fdd-a31c-e366afba079a",
   "metadata": {},
   "outputs": [],
   "source": [
    "driver = webdriver.Edge()"
   ]
  },
  {
   "cell_type": "code",
   "execution_count": 293,
   "id": "d30f52ff-8549-4d21-874a-b060bf16634f",
   "metadata": {},
   "outputs": [],
   "source": [
    "driver.get(f\"https://www.imdb.com/search/title/?genres=fantasy\")"
   ]
  },
  {
   "cell_type": "code",
   "execution_count": 294,
   "id": "b19337da-2061-4858-84da-521ef13b1755",
   "metadata": {},
   "outputs": [],
   "source": [
    "soup = BeautifulSoup(driver.page_source,\"lxml\")"
   ]
  },
  {
   "cell_type": "code",
   "execution_count": 295,
   "id": "cc20f71d-6c21-4eea-b0fc-71e9d2832ddc",
   "metadata": {},
   "outputs": [],
   "source": [
    "mo =soup.find(\"ul\",class_=\"ipc-metadata-list ipc-metadata-list--dividers-between sc-315eec58-0 hvFmRn detailed-list-view ipc-metadata-list--base\")"
   ]
  },
  {
   "cell_type": "code",
   "execution_count": 296,
   "id": "17df0d24-b229-4588-bba4-5b2344363d65",
   "metadata": {},
   "outputs": [],
   "source": [
    "data = []\n",
    "for x in mo.find_all(\"div\",class_= \"ipc-html-content-inner-div\"):\n",
    "    data.append(x.text)"
   ]
  },
  {
   "cell_type": "code",
   "execution_count": 297,
   "id": "3f5f5557-30da-4636-9a58-e210777d7dfa",
   "metadata": {},
   "outputs": [
    {
     "data": {
      "text/plain": [
       "1100"
      ]
     },
     "execution_count": 297,
     "metadata": {},
     "output_type": "execute_result"
    }
   ],
   "source": [
    "len(data)"
   ]
  },
  {
   "cell_type": "code",
   "execution_count": 298,
   "id": "6a6bb6f4-69a0-45a5-854b-f57fb4512d64",
   "metadata": {
    "scrolled": true
   },
   "outputs": [
    {
     "data": {
      "text/html": [
       "<div>\n",
       "<style scoped>\n",
       "    .dataframe tbody tr th:only-of-type {\n",
       "        vertical-align: middle;\n",
       "    }\n",
       "\n",
       "    .dataframe tbody tr th {\n",
       "        vertical-align: top;\n",
       "    }\n",
       "\n",
       "    .dataframe thead th {\n",
       "        text-align: right;\n",
       "    }\n",
       "</style>\n",
       "<table border=\"1\" class=\"dataframe\">\n",
       "  <thead>\n",
       "    <tr style=\"text-align: right;\">\n",
       "      <th></th>\n",
       "      <th>fantasy</th>\n",
       "    </tr>\n",
       "  </thead>\n",
       "  <tbody>\n",
       "    <tr>\n",
       "      <th>0</th>\n",
       "      <td>Demigod Percy Jackson leads a quest across Ame...</td>\n",
       "    </tr>\n",
       "    <tr>\n",
       "      <th>1</th>\n",
       "      <td>Nine noble families fight for control over the...</td>\n",
       "    </tr>\n",
       "    <tr>\n",
       "      <th>2</th>\n",
       "      <td>In an attempt to find a non-violent alternativ...</td>\n",
       "    </tr>\n",
       "    <tr>\n",
       "      <th>3</th>\n",
       "      <td>With dreams of opening a shop in a city renown...</td>\n",
       "    </tr>\n",
       "    <tr>\n",
       "      <th>4</th>\n",
       "      <td>Barbie and Ken are having the time of their li...</td>\n",
       "    </tr>\n",
       "    <tr>\n",
       "      <th>...</th>\n",
       "      <td>...</td>\n",
       "    </tr>\n",
       "    <tr>\n",
       "      <th>1095</th>\n",
       "      <td>A victim of a brutal attack finds a unique and...</td>\n",
       "    </tr>\n",
       "    <tr>\n",
       "      <th>1096</th>\n",
       "      <td>Scooby and the gang face their most challengin...</td>\n",
       "    </tr>\n",
       "    <tr>\n",
       "      <th>1097</th>\n",
       "      <td>Inspired by an epic Chinese tale, translated i...</td>\n",
       "    </tr>\n",
       "    <tr>\n",
       "      <th>1098</th>\n",
       "      <td>The Fellowship of the Ring embark on a journey...</td>\n",
       "    </tr>\n",
       "    <tr>\n",
       "      <th>1099</th>\n",
       "      <td>A poor boy named Arthur learns the power of lo...</td>\n",
       "    </tr>\n",
       "  </tbody>\n",
       "</table>\n",
       "<p>1100 rows × 1 columns</p>\n",
       "</div>"
      ],
      "text/plain": [
       "                                                fantasy\n",
       "0     Demigod Percy Jackson leads a quest across Ame...\n",
       "1     Nine noble families fight for control over the...\n",
       "2     In an attempt to find a non-violent alternativ...\n",
       "3     With dreams of opening a shop in a city renown...\n",
       "4     Barbie and Ken are having the time of their li...\n",
       "...                                                 ...\n",
       "1095  A victim of a brutal attack finds a unique and...\n",
       "1096  Scooby and the gang face their most challengin...\n",
       "1097  Inspired by an epic Chinese tale, translated i...\n",
       "1098  The Fellowship of the Ring embark on a journey...\n",
       "1099  A poor boy named Arthur learns the power of lo...\n",
       "\n",
       "[1100 rows x 1 columns]"
      ]
     },
     "execution_count": 298,
     "metadata": {},
     "output_type": "execute_result"
    }
   ],
   "source": [
    "df = pd.DataFrame({\"fantasy\": data})\n",
    "df"
   ]
  },
  {
   "cell_type": "code",
   "execution_count": 299,
   "id": "2fc431d6-0ac1-42e9-a44d-6a3ec19e6a84",
   "metadata": {},
   "outputs": [],
   "source": [
    "df.to_csv(\"fantasy.csv\")"
   ]
  },
  {
   "cell_type": "code",
   "execution_count": 1,
   "id": "dad6bbc3-b543-449e-98bd-8c85d6e7db71",
   "metadata": {},
   "outputs": [],
   "source": [
    "import os"
   ]
  },
  {
   "cell_type": "code",
   "execution_count": 2,
   "id": "26b33848-5c08-4e3a-b005-2c6328cbde31",
   "metadata": {},
   "outputs": [
    {
     "data": {
      "text/plain": [
       "'C:\\\\Users\\\\DELL\\\\OneDrive\\\\Desktop\\\\edgedriver_win64'"
      ]
     },
     "execution_count": 2,
     "metadata": {},
     "output_type": "execute_result"
    }
   ],
   "source": [
    "os.getcwd()"
   ]
  },
  {
   "cell_type": "code",
   "execution_count": null,
   "id": "389a14df-25f1-4754-8ea3-4a58be7ee215",
   "metadata": {},
   "outputs": [],
   "source": []
  }
 ],
 "metadata": {
  "kernelspec": {
   "display_name": "Python 3 (ipykernel)",
   "language": "python",
   "name": "python3"
  },
  "language_info": {
   "codemirror_mode": {
    "name": "ipython",
    "version": 3
   },
   "file_extension": ".py",
   "mimetype": "text/x-python",
   "name": "python",
   "nbconvert_exporter": "python",
   "pygments_lexer": "ipython3",
   "version": "3.11.4"
  }
 },
 "nbformat": 4,
 "nbformat_minor": 5
}
