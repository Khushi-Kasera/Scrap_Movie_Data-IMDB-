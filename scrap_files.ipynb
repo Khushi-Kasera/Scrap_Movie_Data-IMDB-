{
 "cells": [
  {
   "cell_type": "code",
   "execution_count": 1,
   "id": "91e0e7b9-c2d1-41de-b642-539dc3cb320b",
   "metadata": {},
   "outputs": [],
   "source": [
    "import os\n",
    "import pandas as pd"
   ]
  },
  {
   "cell_type": "code",
   "execution_count": 36,
   "id": "27c51bc6-9d1b-4ecf-bb5c-b93bfbfe3840",
   "metadata": {},
   "outputs": [
    {
     "name": "stdout",
     "output_type": "stream",
     "text": [
      "action-checkpoint.csv\n",
      "animation-checkpoint.csv\n",
      "comedy-checkpoint.csv\n",
      "crime-checkpoint.csv\n",
      "drama-checkpoint.csv\n",
      "fantasy-checkpoint.csv\n",
      "horror-checkpoint.csv\n",
      "mystery-checkpoint.csv\n",
      "romance-checkpoint.csv\n",
      "thriller-checkpoint.csv\n"
     ]
    }
   ],
   "source": [
    "data = []\n",
    "for x in os.listdir(r\"data_movies\"):\n",
    "    # link =\"C:\\Users\\DELL\\data_movies\\{x}\"\n",
    "    # df = pd.read_csv(link)\n",
    "    # data.extend(list(df.iloc[:,-1].values))\n",
    "    print(x)"
   ]
  },
  {
   "cell_type": "code",
   "execution_count": 52,
   "id": "c1306991-75d5-4a5d-bcf0-ce3afcf4d531",
   "metadata": {},
   "outputs": [],
   "source": [
    "# import pandas as pd\n",
    "data = []\n",
    "genres = []"
   ]
  },
  {
   "cell_type": "code",
   "execution_count": 81,
   "id": "93ba52a0-acc5-44dd-a41b-54c1c6314da1",
   "metadata": {},
   "outputs": [],
   "source": [
    "df = pd.read_csv(r'C:\\Users\\DELL\\data_movies\\thriller-checkpoint.csv')\n",
    "data.extend(list(df.iloc[:,-1].values))\n",
    "genres.extend( [\"thriller-checkpoint.csv\" for x in range(len(df.iloc[:,-1].values))])"
   ]
  },
  {
   "cell_type": "code",
   "execution_count": 82,
   "id": "6d6896fa-d4d3-492f-b1ba-280e4a25936b",
   "metadata": {},
   "outputs": [
    {
     "data": {
      "text/plain": [
       "10192"
      ]
     },
     "execution_count": 82,
     "metadata": {},
     "output_type": "execute_result"
    }
   ],
   "source": [
    "len(data)"
   ]
  },
  {
   "cell_type": "code",
   "execution_count": 83,
   "id": "d6a292ec-4379-4fd9-8a9e-442de1e02ae5",
   "metadata": {},
   "outputs": [
    {
     "data": {
      "text/plain": [
       "10192"
      ]
     },
     "execution_count": 83,
     "metadata": {},
     "output_type": "execute_result"
    }
   ],
   "source": [
    "len(genres)"
   ]
  },
  {
   "cell_type": "code",
   "execution_count": 85,
   "id": "1f60bc93-337f-4fd2-834c-6fed328c8232",
   "metadata": {},
   "outputs": [],
   "source": [
    "df1 = pd.DataFrame({\"key_word\":data,\n",
    "                   \"genres\":[x.split(\"-\")[0] for x in genres]})"
   ]
  },
  {
   "cell_type": "code",
   "execution_count": 87,
   "id": "9f3a1073-131d-4811-a819-b0bb888e2f02",
   "metadata": {},
   "outputs": [],
   "source": [
    "df1.to_csv(\"final_movies.csv\",index=False)"
   ]
  },
  {
   "cell_type": "code",
   "execution_count": null,
   "id": "80a9ff92-62c8-492d-9ec5-d6744cb78709",
   "metadata": {},
   "outputs": [],
   "source": []
  }
 ],
 "metadata": {
  "kernelspec": {
   "display_name": "Python 3 (ipykernel)",
   "language": "python",
   "name": "python3"
  },
  "language_info": {
   "codemirror_mode": {
    "name": "ipython",
    "version": 3
   },
   "file_extension": ".py",
   "mimetype": "text/x-python",
   "name": "python",
   "nbconvert_exporter": "python",
   "pygments_lexer": "ipython3",
   "version": "3.11.4"
  }
 },
 "nbformat": 4,
 "nbformat_minor": 5
}
